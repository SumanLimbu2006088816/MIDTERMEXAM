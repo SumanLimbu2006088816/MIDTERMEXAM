{
 "cells": [
  {
   "cell_type": "markdown",
   "id": "747ce64c-bbdb-43eb-a1d6-26b5d97d1cc3",
   "metadata": {},
   "source": [
    "Question 22\n",
    "In a jupyter notebook solve the following question using both python and SQL. Please upload the notebook to GitHub and provide the link submission box below.\n",
    "\n",
    "\n",
    "\n",
    "+---------------+---------+\n",
    "| Column Name   | Type    |\n",
    "+---------------+---------+\n",
    "| id            | int     |\n",
    "| recordDate    | date    |\n",
    "| temperature   | int     |\n",
    "+---------------+---------+\n",
    "id is the column with unique values for this table.\n",
    "This table contains information about the temperature on a certain day.\n",
    " \n",
    " \n",
    "\n",
    "Write a solution to find all dates' Id with higher temperatures compared to its previous dates (yesterday).\n",
    "\n",
    "Return the result table in any order.\n",
    "\n",
    "Please use the following input Weather table for your solution. To receive full marks you will need to create the database, create the table, insert the data below and execute the SQL query.\n",
    "\n",
    " \n",
    "\n",
    "Input: \n",
    "Weather table:\n",
    "+----+------------+-------------+\n",
    "| id | recordDate | temperature |\n",
    "+----+------------+-------------+\n",
    "| 1  | 2015-01-01 | 10          |\n",
    "| 2  | 2015-01-02 | 25          |\n",
    "| 3  | 2015-01-03 | 20          |\n",
    "| 4  | 2015-01-04 | 30          |\n",
    "+----+------------+-------------+\n",
    "Output: \n",
    "+----+\n",
    "| id |\n",
    "+----+\n",
    "| 2  |\n",
    "| 4  |\n",
    "+----+\n",
    "Explanation: \n",
    "In 2015-01-02, the temperature was higher than the previous day (10 -> 25).\n",
    "In 2015-01-04, the temperature was higher than the previous day (20 -> 30)."
   ]
  },
  {
   "cell_type": "code",
   "execution_count": 1,
   "id": "d61aef38-a034-4553-a79a-acf74d8b0947",
   "metadata": {},
   "outputs": [
    {
     "name": "stdout",
     "output_type": "stream",
     "text": [
      "Requirement already satisfied: pandas in c:\\users\\200608816\\appdata\\local\\anaconda3\\lib\\site-packages (2.2.2)\n",
      "Requirement already satisfied: numpy>=1.26.0 in c:\\users\\200608816\\appdata\\local\\anaconda3\\lib\\site-packages (from pandas) (1.26.4)\n",
      "Requirement already satisfied: python-dateutil>=2.8.2 in c:\\users\\200608816\\appdata\\local\\anaconda3\\lib\\site-packages (from pandas) (2.9.0.post0)\n",
      "Requirement already satisfied: pytz>=2020.1 in c:\\users\\200608816\\appdata\\local\\anaconda3\\lib\\site-packages (from pandas) (2024.1)\n",
      "Requirement already satisfied: tzdata>=2022.7 in c:\\users\\200608816\\appdata\\local\\anaconda3\\lib\\site-packages (from pandas) (2023.3)\n",
      "Requirement already satisfied: six>=1.5 in c:\\users\\200608816\\appdata\\local\\anaconda3\\lib\\site-packages (from python-dateutil>=2.8.2->pandas) (1.16.0)\n"
     ]
    }
   ],
   "source": [
    "!pip install pandas\n"
   ]
  },
  {
   "cell_type": "code",
   "execution_count": 3,
   "id": "786f1d9e-c628-49f6-ae2a-2ba52544b43f",
   "metadata": {},
   "outputs": [],
   "source": [
    "import sqlite3\n",
    "\n",
    "import pandas as pd\n",
    "\n",
    "# connecting with database\n",
    "conn = sqlite3.connect('WeatherTemp.db')\n",
    "\n",
    "cursor = conn.cursor()\n",
    "#creating weather table\n",
    "\n",
    "create_table_query = '''\n",
    "\n",
    "CREATE TABLE WeatherTemp (\n",
    "id INT PRIMARY KEY,\n",
    "recordDate DATE,\n",
    "temperature INT\n",
    ");\n",
    "'''"
   ]
  },
  {
   "cell_type": "code",
   "execution_count": 5,
   "id": "719c1438-d650-482b-8acc-80c2e0f15eaf",
   "metadata": {},
   "outputs": [],
   "source": [
    "#insert data into db\n",
    "\n",
    "insert_data_query = '''\n",
    "INSERT INTO WeatherTemp (id,recordDate, temperature)\n",
    "VALUES\n",
    "(1,'2015-01-01',10),\n",
    "(2,'2015-01-02',25),\n",
    "(3,'2015-01-03',20),\n",
    "(4,'2015-01-04',30);\n",
    "\n",
    "'''"
   ]
  },
  {
   "cell_type": "code",
   "execution_count": 7,
   "id": "f6b58007-7cdd-4ca4-b439-3ee4ffdb91a9",
   "metadata": {},
   "outputs": [],
   "source": [
    "#execute query\n",
    "cursor.execute(create_table_query)\n",
    "cursor.execute(insert_data_query)\n",
    "\n",
    "# commit\n",
    "conn.commit()\n",
    "#sql query to find higher temperature  compared to previous dates\n",
    "\n",
    "find_higher_tem_query = '''\n",
    "SELECT wt.id\n",
    "FROM WeatherTemp wt\n",
    "WHERE temperature > (\n",
    "     SELECT temperature\n",
    "     FROM WeatherTemp\n",
    "     WHERE recordDate = DATE(wt.recordDate, '-1 day')\n",
    "     );\n",
    "\n",
    "'''"
   ]
  },
  {
   "cell_type": "code",
   "execution_count": 9,
   "id": "63fc1a90-f4ba-411a-838a-2fb7342e9959",
   "metadata": {},
   "outputs": [
    {
     "name": "stdout",
     "output_type": "stream",
     "text": [
      "   id\n",
      "0   2\n",
      "1   4\n"
     ]
    }
   ],
   "source": [
    "#execute sql query\n",
    "data = pd.read_sql_query(find_higher_tem_query, conn)\n",
    "# print result\n",
    "print(data)"
   ]
  },
  {
   "cell_type": "code",
   "execution_count": null,
   "id": "4552ac31-bb89-47b7-a99e-865c3309a766",
   "metadata": {},
   "outputs": [],
   "source": []
  }
 ],
 "metadata": {
  "kernelspec": {
   "display_name": "Python 3 (ipykernel)",
   "language": "python",
   "name": "python3"
  },
  "language_info": {
   "codemirror_mode": {
    "name": "ipython",
    "version": 3
   },
   "file_extension": ".py",
   "mimetype": "text/x-python",
   "name": "python",
   "nbconvert_exporter": "python",
   "pygments_lexer": "ipython3",
   "version": "3.12.4"
  }
 },
 "nbformat": 4,
 "nbformat_minor": 5
}
