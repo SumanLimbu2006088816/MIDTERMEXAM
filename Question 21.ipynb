{
  "metadata": {
    "kernelspec": {
      "name": "python",
      "display_name": "Python (Pyodide)",
      "language": "python"
    },
    "language_info": {
      "codemirror_mode": {
        "name": "python",
        "version": 3
      },
      "file_extension": ".py",
      "mimetype": "text/x-python",
      "name": "python",
      "nbconvert_exporter": "python",
      "pygments_lexer": "ipython3",
      "version": "3.8"
    }
  },
  "nbformat_minor": 4,
  "nbformat": 4,
  "cells": [
    {
      "cell_type": "markdown",
      "source": "Question 21\nIn a jupyter notebook solve the following question. Please upload the notebook to GitHub and provide the link submission box below.\n\n \n\n__int()__: Constructor that takes as input a pair of Point objects that represent the ends points of the line segment\n\nLength():: returns the length if the segment \n\nSlope() returns the slope of the segment of none if the slope is unbounded \n\n \n\n>>> p1 = Point(3,4)\n\n>>> p2 = Point()\n\n>>> s = Segment(p1,p2)\n\n>>> s.length()\n\n5.0\n\n>>> s.slope()\n\n0.75",
      "metadata": {}
    },
    {
      "cell_type": "code",
      "source": "#define class point \nimport math\n\nclass Point:\n    def __init__(self, x =0, y=0):\n        self.x =x\n        self.y=y\n        \n# define segment class\n\nclass Segment:\n    \n    def __init__(self, p1, p2): #constructor\n        \n        self.p1 =p1\n        self.p2 =p2\n        \n    def Length(self):\n        \n        distance = math.sqrt((self.p2.x - self.p1.x)**2 + (self.p2.y-self.p1.y)**2)\n        return distance\n        \n    def Slope(self):\n        \n        if self.p2.x-self.p1.x ==0:\n            return None\n        \n        slope = (self.p2.y-self.p1.y)/(self.p2.x-self.p1.x)\n        return slope\n    \np1 = Point(3,4)\np2 = Point()\ns = Segment(p1,p2)\n\nprint(s.Length()) # lenth print\n\nprint(s.Slope()) # generally slope m = (y-y1)/(x-x1) here x =3 , y=4 so m = 4/3\n\n",
      "metadata": {
        "trusted": true
      },
      "outputs": [
        {
          "name": "stdout",
          "text": "5.0\n1.3333333333333333\n",
          "output_type": "stream"
        }
      ],
      "execution_count": 3
    },
    {
      "cell_type": "code",
      "source": "",
      "metadata": {
        "trusted": true
      },
      "outputs": [],
      "execution_count": null
    }
  ]
}